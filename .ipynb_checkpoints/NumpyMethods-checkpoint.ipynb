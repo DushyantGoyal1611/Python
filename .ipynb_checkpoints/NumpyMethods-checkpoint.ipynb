{
 "cells": [
  {
   "cell_type": "code",
   "execution_count": 2,
   "id": "4086ef84-b419-4029-87b3-9ad0e6be2e4a",
   "metadata": {},
   "outputs": [
    {
     "name": "stdout",
     "output_type": "stream",
     "text": [
      "Collecting numpy"
     ]
    },
    {
     "name": "stderr",
     "output_type": "stream",
     "text": [
      "\n",
      "[notice] A new release of pip is available: 24.3.1 -> 25.0\n",
      "[notice] To update, run: python.exe -m pip install --upgrade pip\n"
     ]
    },
    {
     "name": "stdout",
     "output_type": "stream",
     "text": [
      "\n",
      "  Downloading numpy-2.2.2-cp313-cp313-win_amd64.whl.metadata (60 kB)\n",
      "Downloading numpy-2.2.2-cp313-cp313-win_amd64.whl (12.6 MB)\n",
      "   ---------------------------------------- 0.0/12.6 MB ? eta -:--:--\n",
      "   - -------------------------------------- 0.5/12.6 MB 3.7 MB/s eta 0:00:04\n",
      "   ---- ----------------------------------- 1.6/12.6 MB 4.9 MB/s eta 0:00:03\n",
      "   --------- ------------------------------ 2.9/12.6 MB 5.5 MB/s eta 0:00:02\n",
      "   ------------- -------------------------- 4.2/12.6 MB 5.7 MB/s eta 0:00:02\n",
      "   ------------------- -------------------- 6.0/12.6 MB 6.3 MB/s eta 0:00:02\n",
      "   ------------------------- -------------- 8.1/12.6 MB 7.0 MB/s eta 0:00:01\n",
      "   ----------------------------- ---------- 9.4/12.6 MB 7.1 MB/s eta 0:00:01\n",
      "   ------------------------------------- -- 11.8/12.6 MB 7.7 MB/s eta 0:00:01\n",
      "   ---------------------------------------- 12.6/12.6 MB 7.4 MB/s eta 0:00:00\n",
      "Installing collected packages: numpy\n",
      "Successfully installed numpy-2.2.2\n"
     ]
    }
   ],
   "source": [
    "!pip install numpy"
   ]
  },
  {
   "cell_type": "code",
   "execution_count": 4,
   "id": "67e3db04-1d6d-4d68-87df-3bb6c67587e3",
   "metadata": {},
   "outputs": [],
   "source": [
    "import numpy as np"
   ]
  },
  {
   "cell_type": "code",
   "execution_count": 6,
   "id": "76afe646-5868-4364-a9fc-769e5e36ab06",
   "metadata": {},
   "outputs": [],
   "source": [
    "arr = np.array([1,2,3,4])"
   ]
  },
  {
   "cell_type": "code",
   "execution_count": 7,
   "id": "be4d2151-69d1-46b2-91b1-489d1dbb1d84",
   "metadata": {},
   "outputs": [
    {
     "name": "stdout",
     "output_type": "stream",
     "text": [
      "[1 2 3 4]\n"
     ]
    }
   ],
   "source": [
    "print(arr)"
   ]
  },
  {
   "cell_type": "code",
   "execution_count": 8,
   "id": "83ab3e9c-d020-47d3-b619-94597acab13e",
   "metadata": {},
   "outputs": [
    {
     "name": "stdout",
     "output_type": "stream",
     "text": [
      "[2 4 6 8]\n"
     ]
    }
   ],
   "source": [
    "print(arr+arr)"
   ]
  },
  {
   "cell_type": "code",
   "execution_count": 9,
   "id": "c98c66f7-110f-4720-8c48-06c04d576fdc",
   "metadata": {},
   "outputs": [
    {
     "name": "stdout",
     "output_type": "stream",
     "text": [
      "[  1   4  27 256]\n"
     ]
    }
   ],
   "source": [
    "print(arr**arr)"
   ]
  },
  {
   "cell_type": "code",
   "execution_count": 13,
   "id": "ed5b7030-d529-4d27-903a-227b797bcc73",
   "metadata": {},
   "outputs": [
    {
     "name": "stdout",
     "output_type": "stream",
     "text": [
      "3\n"
     ]
    }
   ],
   "source": [
    "print(arr[2])"
   ]
  },
  {
   "cell_type": "code",
   "execution_count": 19,
   "id": "2cca5b18-fde1-4920-bffa-e0336a6546fd",
   "metadata": {},
   "outputs": [
    {
     "name": "stdout",
     "output_type": "stream",
     "text": [
      "[0. 0. 0. 0. 0.]\n"
     ]
    }
   ],
   "source": [
    "# fills the array with zero\n",
    "arr1 = np.zeros(5)\n",
    "print(arr1)"
   ]
  },
  {
   "cell_type": "code",
   "execution_count": 18,
   "id": "5ae7eda9-0e43-4c75-b693-d3d0ef128fef",
   "metadata": {},
   "outputs": [
    {
     "name": "stdout",
     "output_type": "stream",
     "text": [
      "[[0. 0. 0. 0.]\n",
      " [0. 0. 0. 0.]\n",
      " [0. 0. 0. 0.]]\n"
     ]
    }
   ],
   "source": [
    "# fills the matrix with zero\n",
    "arr2 = np.zeros((3,4))\n",
    "print(arr2)"
   ]
  },
  {
   "cell_type": "code",
   "execution_count": 23,
   "id": "a95431f5-acd3-4093-9f11-a84b46e13f41",
   "metadata": {},
   "outputs": [
    {
     "name": "stdout",
     "output_type": "stream",
     "text": [
      "[1 2 3 4 5 6 7 8 9]\n"
     ]
    }
   ],
   "source": [
    "# aranges the array, similar to range()\n",
    "arr3 = np.arange(1 , 10)\n",
    "print(arr3)"
   ]
  },
  {
   "cell_type": "code",
   "execution_count": 25,
   "id": "a24f8689-74d8-432b-bebe-2a0c9b208f4b",
   "metadata": {},
   "outputs": [
    {
     "name": "stdout",
     "output_type": "stream",
     "text": [
      "[0.  0.2 0.4 0.6 0.8]\n"
     ]
    }
   ],
   "source": [
    "# aranges the array with step size\n",
    "arr4 = np.arange(0,1,0.2)\n",
    "print(arr4)"
   ]
  },
  {
   "cell_type": "code",
   "execution_count": 26,
   "id": "0e7944ad-c7bc-47ea-953a-2210655d8a47",
   "metadata": {},
   "outputs": [
    {
     "name": "stdout",
     "output_type": "stream",
     "text": [
      "[12 15 18]\n"
     ]
    }
   ],
   "source": [
    "# aranges the array with step size and condition\n",
    "arr5 = np.arange(0,20,3)\n",
    "filtered = arr5[arr5>10]\n",
    "print(filtered)"
   ]
  },
  {
   "cell_type": "code",
   "execution_count": 29,
   "id": "bb010cc9-991e-4a99-b6be-2c749c583191",
   "metadata": {},
   "outputs": [
    {
     "name": "stdout",
     "output_type": "stream",
     "text": [
      "[1. 1. 1. 1. 1.]\n",
      "----------------\n",
      "[[1. 1. 1. 1.]\n",
      " [1. 1. 1. 1.]\n",
      " [1. 1. 1. 1.]]\n"
     ]
    }
   ],
   "source": [
    "# ones() is just like zero(), just it fills array with 1 instead of 0\n",
    "\n",
    "#1d array\n",
    "arr6 = np.ones(5)\n",
    "print(arr6)\n",
    "\n",
    "print(\"----------------\")\n",
    "\n",
    "#multi-dimensional array\n",
    "arr7 = np.ones((3,4))\n",
    "print(arr7)"
   ]
  },
  {
   "cell_type": "code",
   "execution_count": 32,
   "id": "da51b230-cc6d-4863-8e4c-463a332bfeb7",
   "metadata": {},
   "outputs": [
    {
     "name": "stdout",
     "output_type": "stream",
     "text": [
      "[[1. 0. 0. 0.]\n",
      " [0. 1. 0. 0.]\n",
      " [0. 0. 1. 0.]]\n"
     ]
    }
   ],
   "source": [
    "# eye() fills the multi-d matrix with 1 on the diagonal and 0 elsewhere\n",
    "\n",
    "arr7 = np.eye(3,4)\n",
    "print(arr7)"
   ]
  },
  {
   "cell_type": "code",
   "execution_count": 33,
   "id": "3eb7c073-4ebe-45c4-a28a-38512b2c094a",
   "metadata": {},
   "outputs": [
    {
     "name": "stdout",
     "output_type": "stream",
     "text": [
      "[[0. 1. 0. 0.]\n",
      " [0. 0. 1. 0.]\n",
      " [0. 0. 0. 1.]]\n"
     ]
    }
   ],
   "source": [
    "# in eye(), k can be used to shift the diagonal\n",
    "arr8 = np.eye(3,4,k=1)\n",
    "print(arr8)"
   ]
  },
  {
   "cell_type": "code",
   "execution_count": 37,
   "id": "9f76f24f-f0c9-495f-af9b-1e330c8521dc",
   "metadata": {},
   "outputs": [
    {
     "name": "stdout",
     "output_type": "stream",
     "text": [
      "Empty Array:\n",
      " [[0. 1. 0. 0.]\n",
      " [0. 0. 1. 0.]\n",
      " [0. 0. 0. 1.]]\n"
     ]
    }
   ],
   "source": [
    "#Empty array: This array isn’t initialized with any specific values. It’s like a blank page, ready to be filled with data later.\n",
    "arr9 = np.empty((3,4))\n",
    "print(\"Empty Array:\\n\",arr9)"
   ]
  },
  {
   "cell_type": "code",
   "execution_count": 38,
   "id": "c2790984-c6ff-4e9f-b9ce-5ec7ab486c29",
   "metadata": {},
   "outputs": [
    {
     "name": "stdout",
     "output_type": "stream",
     "text": [
      "Full Array:\n",
      " [[5 5 5 5]\n",
      " [5 5 5 5]\n",
      " [5 5 5 5]]\n"
     ]
    }
   ],
   "source": [
    "#A full array is ideal when you need an array initialized with a specific value\n",
    "arr9 = np.full((3,4),5)\n",
    "print(\"Full Array:\\n\",arr9)"
   ]
  }
 ],
 "metadata": {
  "kernelspec": {
   "display_name": "Python 3 (ipykernel)",
   "language": "python",
   "name": "python3"
  },
  "language_info": {
   "codemirror_mode": {
    "name": "ipython",
    "version": 3
   },
   "file_extension": ".py",
   "mimetype": "text/x-python",
   "name": "python",
   "nbconvert_exporter": "python",
   "pygments_lexer": "ipython3",
   "version": "3.13.1"
  }
 },
 "nbformat": 4,
 "nbformat_minor": 5
}
