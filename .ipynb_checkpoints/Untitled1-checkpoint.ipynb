{
 "cells": [
  {
   "cell_type": "code",
   "execution_count": 2,
   "id": "be8ddf3b-ee31-4060-9a3e-6949a8b85689",
   "metadata": {},
   "outputs": [
    {
     "name": "stdout",
     "output_type": "stream",
     "text": [
      "Requirement already satisfied: numpy in c:\\users\\dushyant\\documents\\pythonfolder\\lib\\site-packages (2.2.2)\n",
      "Note: you may need to restart the kernel to use updated packages.\n"
     ]
    }
   ],
   "source": [
    "pip install numpy"
   ]
  },
  {
   "cell_type": "code",
   "execution_count": 3,
   "id": "e91cf003-59ae-42c1-b163-9d8165ce0580",
   "metadata": {},
   "outputs": [],
   "source": [
    "import numpy as np"
   ]
  },
  {
   "cell_type": "code",
   "execution_count": null,
   "id": "b425de47-ad9c-43ad-a59c-0fb51040934f",
   "metadata": {},
   "outputs": [],
   "source": [
    "# Slicing in numpy"
   ]
  },
  {
   "cell_type": "code",
   "execution_count": 4,
   "id": "eb85c6ec-0642-41cd-9e07-d7253329c8bf",
   "metadata": {},
   "outputs": [
    {
     "name": "stdout",
     "output_type": "stream",
     "text": [
      "[2 3 4 5]\n"
     ]
    }
   ],
   "source": [
    "arr = np.array([1,2,3,4,5,6,7,8,9])\n",
    "print(arr[1:5])"
   ]
  },
  {
   "cell_type": "code",
   "execution_count": 5,
   "id": "dff7018f-9beb-4394-98ad-9be708b0c276",
   "metadata": {},
   "outputs": [
    {
     "name": "stdout",
     "output_type": "stream",
     "text": [
      "[4 5 6 7 8 9]\n"
     ]
    }
   ],
   "source": [
    "# from initial point to the end\n",
    "arr = np.array([1,2,3,4,5,6,7,8,9])\n",
    "print(arr[3:])"
   ]
  },
  {
   "cell_type": "code",
   "execution_count": 6,
   "id": "50ef9676-2a2e-4c0c-8a87-c61640a6c860",
   "metadata": {},
   "outputs": [
    {
     "name": "stdout",
     "output_type": "stream",
     "text": [
      "[1 2 3 4 5 6]\n"
     ]
    }
   ],
   "source": [
    "# from starting to specified point\n",
    "arr = np.array([1,2,3,4,5,6,7,8,9])\n",
    "print(arr[:6])"
   ]
  },
  {
   "cell_type": "code",
   "execution_count": 7,
   "id": "f5cc564f-fd93-4a9d-a9f7-ce3c20d25a23",
   "metadata": {},
   "outputs": [
    {
     "name": "stdout",
     "output_type": "stream",
     "text": [
      "[9 8 7 6 5 4 3 2 1]\n"
     ]
    }
   ],
   "source": [
    "# reverse the array\n",
    "arr = np.array([1,2,3,4,5,6,7,8,9])\n",
    "print(arr[::-1])"
   ]
  },
  {
   "cell_type": "code",
   "execution_count": 8,
   "id": "38af4dc4-1ecb-4512-a63d-0724ea1b06b4",
   "metadata": {},
   "outputs": [
    {
     "name": "stdout",
     "output_type": "stream",
     "text": [
      "[1 3 5]\n"
     ]
    }
   ],
   "source": [
    "# slicing but with steps\n",
    "arr = np.array([1,2,3,4,5,6,7,8,9])\n",
    "print(arr[0:5:2])"
   ]
  },
  {
   "cell_type": "code",
   "execution_count": 9,
   "id": "69f2d7cf-2aa7-4a7a-8854-97fd67c225ed",
   "metadata": {},
   "outputs": [
    {
     "name": "stdout",
     "output_type": "stream",
     "text": [
      "[1 3 5 7 9]\n"
     ]
    }
   ],
   "source": [
    "# steps on the entire array\n",
    "arr = np.array([1,2,3,4,5,6,7,8,9])\n",
    "print(arr[::2])"
   ]
  }
 ],
 "metadata": {
  "kernelspec": {
   "display_name": "Python 3 (ipykernel)",
   "language": "python",
   "name": "python3"
  },
  "language_info": {
   "codemirror_mode": {
    "name": "ipython",
    "version": 3
   },
   "file_extension": ".py",
   "mimetype": "text/x-python",
   "name": "python",
   "nbconvert_exporter": "python",
   "pygments_lexer": "ipython3",
   "version": "3.13.1"
  }
 },
 "nbformat": 4,
 "nbformat_minor": 5
}
