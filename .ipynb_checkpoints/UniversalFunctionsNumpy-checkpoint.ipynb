{
 "cells": [
  {
   "cell_type": "code",
   "execution_count": null,
   "id": "691b11b8-3dbf-43ef-8c41-61d8afe339ca",
   "metadata": {},
   "outputs": [],
   "source": [
    "# universal functions or ufunc"
   ]
  },
  {
   "cell_type": "code",
   "execution_count": 3,
   "id": "f1cd4d3c-191a-4982-a286-022f94b9303d",
   "metadata": {},
   "outputs": [
    {
     "name": "stdout",
     "output_type": "stream",
     "text": [
      "Requirement already satisfied: numpy in c:\\users\\dushyant\\documents\\pythonfolder\\lib\\site-packages (2.2.2)\n",
      "Note: you may need to restart the kernel to use updated packages.\n"
     ]
    }
   ],
   "source": [
    "pip install numpy"
   ]
  },
  {
   "cell_type": "code",
   "execution_count": 5,
   "id": "e59e1378-5fe0-4bd7-a455-2b1e827e11eb",
   "metadata": {},
   "outputs": [],
   "source": [
    "import numpy as np"
   ]
  },
  {
   "cell_type": "code",
   "execution_count": 15,
   "id": "9031e380-08be-4ba6-8e77-947b3fc5d326",
   "metadata": {},
   "outputs": [
    {
     "name": "stdout",
     "output_type": "stream",
     "text": [
      "[1.         1.41421356 1.73205081 2.        ]\n"
     ]
    }
   ],
   "source": [
    "# sqrt -> return sq root of each element in an array\n",
    "arr = np.array([1,2,3,4])\n",
    "print(np.sqrt(arr))"
   ]
  },
  {
   "cell_type": "code",
   "execution_count": 18,
   "id": "a603e4d7-5621-4587-b380-3fd6828dd8e5",
   "metadata": {},
   "outputs": [
    {
     "name": "stdout",
     "output_type": "stream",
     "text": [
      "[1 2 3 4]\n"
     ]
    }
   ],
   "source": [
    "# absolute -> return the absolute value(non-negative value) of each element in an array\n",
    "arr = np.array([1,-2,3,-4])\n",
    "print(np.absolute(arr))"
   ]
  },
  {
   "cell_type": "code",
   "execution_count": 20,
   "id": "b7783f57-5d17-4c05-879f-9c2fcc095b67",
   "metadata": {},
   "outputs": [
    {
     "name": "stdout",
     "output_type": "stream",
     "text": [
      "[2.71828183e+00 1.35335283e-01 2.00855369e+01 1.83156389e-02]\n"
     ]
    }
   ],
   "source": [
    "# exp -> An exponent represents how many times a number (base) is multiplied by itself.\n",
    "arr = np.array([1,-2,3,-4])\n",
    "print(np.exp(arr))"
   ]
  },
  {
   "cell_type": "code",
   "execution_count": 22,
   "id": "cc377692-b357-459a-b5dc-b68bfdeff284",
   "metadata": {},
   "outputs": [
    {
     "name": "stdout",
     "output_type": "stream",
     "text": [
      "Min Element is  -2\n",
      "Max Element is  6\n"
     ]
    }
   ],
   "source": [
    "# Min/Max\n",
    "arr = np.array([1,3,5,0,-2,6])\n",
    "print(\"Min Element is \",np.min(arr))\n",
    "print(\"Max Element is \",np.max(arr))"
   ]
  },
  {
   "cell_type": "code",
   "execution_count": 23,
   "id": "5aa886d6-3886-41a5-89f4-0295c31e88fb",
   "metadata": {},
   "outputs": [
    {
     "name": "stdout",
     "output_type": "stream",
     "text": [
      "[  1   2   3   0  -1  -4   9 -56]\n",
      "[ 1  1  1  0 -1 -1  1 -1]\n"
     ]
    }
   ],
   "source": [
    "# sign -> postive, negative or zero\n",
    "arr = np.array([1,2,3,0,-1,-4,9,-56])\n",
    "print(arr)\n",
    "print(np.sign(arr))"
   ]
  },
  {
   "cell_type": "code",
   "execution_count": 24,
   "id": "f63abe1a-1ec0-421f-a9e3-66f220573693",
   "metadata": {},
   "outputs": [
    {
     "name": "stdout",
     "output_type": "stream",
     "text": [
      "sin:  [ 0.84147098  0.90929743  0.14112001 -0.7568025  -0.95892427]\n",
      "cos:  [ 0.54030231 -0.41614684 -0.9899925  -0.65364362  0.28366219]\n",
      "log:  [0.         0.69314718 1.09861229 1.38629436 1.60943791]\n"
     ]
    }
   ],
   "source": [
    "# trignometric functions -> sin cos log(doesn't work for neg numbers)\n",
    "arr = np.array([1,2,3,4,5])\n",
    "print(\"sin: \",np.sin(arr))\n",
    "print(\"cos: \",np.cos(arr))\n",
    "print(\"log: \",np.log(arr))"
   ]
  }
 ],
 "metadata": {
  "kernelspec": {
   "display_name": "Python 3 (ipykernel)",
   "language": "python",
   "name": "python3"
  },
  "language_info": {
   "codemirror_mode": {
    "name": "ipython",
    "version": 3
   },
   "file_extension": ".py",
   "mimetype": "text/x-python",
   "name": "python",
   "nbconvert_exporter": "python",
   "pygments_lexer": "ipython3",
   "version": "3.13.1"
  }
 },
 "nbformat": 4,
 "nbformat_minor": 5
}
